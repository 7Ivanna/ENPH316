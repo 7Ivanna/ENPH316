{
 "cells": [
  {
   "cell_type": "code",
   "execution_count": 46,
   "id": "e8ebd8cd-9a2b-452c-9434-434fcc29c1ce",
   "metadata": {},
   "outputs": [
    {
     "data": {
      "image/png": "[encoded data removed]",
      "text/plain": [
       "<Figure size 432x288 with 1 Axes>"
      ]
     },
     "metadata": {
      "needs_background": "light"
     },
     "output_type": "display_data"
    }
   ],
   "source": [
    "import numpy as np\n",
    "from matplotlib import pyplot as plt\n",
    "\n",
    "\n",
    "def mandelbrot(a,b,n,thresh=10):\n",
    "    x=0\n",
    "    y=0\n",
    "    for i in range(n):\n",
    "        xn=np.exp(x)*np.cos(y)+a\n",
    "        yn=np.exp(x)*np.sin(y)+b\n",
    "        if np.abs(xn)>thresh or np.abs(yn)>thresh:\n",
    "            return False\n",
    "        x=xn\n",
    "        y=yn\n",
    "    return True\n",
    "n=100\n",
    "\n",
    "a=np.linspace(-10,10,n)\n",
    "b=np.linspace(-10,10,n)\n",
    "\n",
    "for i in range(n):\n",
    "    for j in range (n):\n",
    "        if mandelbrot(a[i],b[j],n, 100):\n",
    "            plt.plot(a[i], b[j], 'bo', markersize=0.5)\n",
    "\n",
    "plt.show()\n",
    "\n",
    "plt.hist( #make hsitorgarm bih\n",
    "            \n",
    "            \n",
    "            "
   ]
  },
  {
   "cell_type": "code",
   "execution_count": null,
   "id": "8f1cf916-2d6f-4e44-97e9-d3414fb6a329",
   "metadata": {},
   "outputs": [],
   "source": []
  },
  {
   "cell_type": "code",
   "execution_count": null,
   "id": "e68cca16-ba1c-4c90-a1f2-5961391639dd",
   "metadata": {},
   "outputs": [],
   "source": []
  },
  {
   "cell_type": "code",
   "execution_count": null,
   "id": "bfbbcae2-9e74-41ec-afd4-9f73e47ef32c",
   "metadata": {},
   "outputs": [],
   "source": []
  }
 ],
 "metadata": {
  "kernelspec": {
   "display_name": "Python 3 (ipykernel)",
   "language": "python",
   "name": "python3"
  },
  "language_info": {
   "codemirror_mode": {
    "name": "ipython",
    "version": 3
   },
   "file_extension": ".py",
   "mimetype": "text/x-python",
   "name": "python",
   "nbconvert_exporter": "python",
   "pygments_lexer": "ipython3",
   "version": "3.9.7"
  }
 },
 "nbformat": 4,
 "nbformat_minor": 5
}
